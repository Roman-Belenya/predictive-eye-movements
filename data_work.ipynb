{
 "cells": [
  {
   "cell_type": "code",
   "execution_count": 1,
   "metadata": {},
   "outputs": [
    {
     "name": "stdout",
     "output_type": "stream",
     "text": [
      "P01\n",
      "all trials are in order\n",
      "P02\n",
      "all trials are in order\n",
      "P03\n",
      "all trials are in order\n",
      "P04\n",
      "all trials are in order\n",
      "P05\n",
      "all trials are in order\n",
      "P06\n",
      "all trials are in order\n",
      "P07\n",
      "all trials are in order\n",
      "P08\n",
      "all trials are in order\n",
      "P09\n",
      "all trials are in order\n",
      "P10\n",
      "P11\n"
     ]
    },
    {
     "name": "stderr",
     "output_type": "stream",
     "text": [
      "experiment.py:289: UserWarning: Impossible to identify condition for p10\n",
      "  warnings.warn('Impossible to identify condition for {}'.format(self.name))\n"
     ]
    },
    {
     "name": "stdout",
     "output_type": "stream",
     "text": [
      "all trials are in order\n",
      "P12\n",
      "all trials are in order\n",
      "P13\n",
      "all trials are in order\n",
      "P14\n",
      "all trials are in order\n",
      "P15\n",
      "all trials are in order\n",
      "P16\n",
      "all trials are in order\n",
      "P17\n",
      "all trials are in order\n",
      "P18\n",
      "all trials are in order\n",
      "P19\n",
      "all trials are in order\n",
      "P20\n",
      "all trials are in order\n",
      "P21\n",
      "P22\n"
     ]
    },
    {
     "name": "stderr",
     "output_type": "stream",
     "text": [
      "experiment.py:289: UserWarning: Impossible to identify condition for p21\n",
      "  warnings.warn('Impossible to identify condition for {}'.format(self.name))\n"
     ]
    },
    {
     "name": "stdout",
     "output_type": "stream",
     "text": [
      "all trials are in order\n",
      "P23\n",
      "all trials are in order\n",
      "P24\n",
      "all trials are in order\n",
      "P25\n",
      "all trials are in order\n",
      "P26\n",
      "all trials are in order\n",
      "P27\n",
      "all trials are in order\n",
      "P28\n",
      "all trials are in order\n",
      "P29\n",
      "all trials are in order\n",
      "P30\n",
      "all trials are in order\n",
      "P31\n",
      "all trials are in order\n",
      "P32\n",
      "all trials are in order\n",
      "P33\n",
      "all trials are in order\n",
      "P34\n",
      "all trials are in order\n",
      "P35\n",
      "all trials are in order\n",
      "P36\n",
      "all trials are in order\n",
      "P37\n",
      "all trials are in order\n",
      "P38\n",
      "all trials are in order\n",
      "P39\n",
      "all trials are in order\n",
      "P40\n",
      "all trials are in order\n",
      "P41\n",
      "all trials are in order\n",
      "P42\n",
      "all trials are in order\n",
      "P43\n",
      "all trials are in order\n",
      "P44\n",
      "all trials are in order\n",
      "P45\n",
      "all trials are in order\n"
     ]
    }
   ],
   "source": [
    "import experiment\n",
    "exp = experiment.Experiment()\n",
    "exp.read_participants_data('./data')"
   ]
  },
  {
   "cell_type": "markdown",
   "metadata": {},
   "source": [
    "# P01\n",
    "\n",
    "accuracy ok\n",
    "- trial 2: data drop"
   ]
  },
  {
   "cell_type": "code",
   "execution_count": 2,
   "metadata": {},
   "outputs": [],
   "source": [
    "exp.p01.set_markers('Index8', 'Thumb9', 'Wrist11')"
   ]
  },
  {
   "cell_type": "code",
   "execution_count": 3,
   "metadata": {},
   "outputs": [],
   "source": [
    "exp.p01.t2.exclude_trial()"
   ]
  },
  {
   "cell_type": "markdown",
   "metadata": {},
   "source": [
    "# P02\n",
    "\n",
    "accuracy ok  \n",
    "- trial 25: early reach"
   ]
  },
  {
   "cell_type": "code",
   "execution_count": 4,
   "metadata": {},
   "outputs": [],
   "source": [
    "exp.p02.set_markers('Index8', 'Thumb10', 'Wrist11')"
   ]
  },
  {
   "cell_type": "code",
   "execution_count": 5,
   "metadata": {},
   "outputs": [],
   "source": [
    "exp.p02.t25.exclude_trial()"
   ]
  },
  {
   "cell_type": "markdown",
   "metadata": {},
   "source": [
    "# P03\n",
    "\n",
    "bad accuracy on the x-axis; no accuracy for the first block  \n",
    ">EXCLUDE"
   ]
  },
  {
   "cell_type": "code",
   "execution_count": 6,
   "metadata": {},
   "outputs": [],
   "source": [
    "exp.p03.exclude_participant()"
   ]
  },
  {
   "cell_type": "markdown",
   "metadata": {},
   "source": [
    "# P04\n",
    "\n",
    "high z-axis accuracy  \n",
    "bad markers data  \n",
    "only 23 trials in the second block  \n",
    ">EXCLUDE"
   ]
  },
  {
   "cell_type": "code",
   "execution_count": 7,
   "metadata": {},
   "outputs": [],
   "source": [
    "exp.P04.exclude_participant()"
   ]
  },
  {
   "cell_type": "markdown",
   "metadata": {},
   "source": [
    "# P05\n",
    "\n",
    "great accuracy  \n",
    "MM crush: trial 102. Continued experiment; trials 114-120 missing  \n",
    "total 111 trials; full first block  \n",
    "- trial 70: early reach. exclude"
   ]
  },
  {
   "cell_type": "code",
   "execution_count": 8,
   "metadata": {},
   "outputs": [],
   "source": [
    "exp.p05.t70.exclude_trial()"
   ]
  },
  {
   "cell_type": "markdown",
   "metadata": {},
   "source": [
    "# P06\n",
    "\n",
    "good accuracy  \n",
    "- trial 1: early reach\n",
    "- trial 45: lag, no grasp"
   ]
  },
  {
   "cell_type": "code",
   "execution_count": 9,
   "metadata": {},
   "outputs": [],
   "source": [
    "exp.p06.set_markers('Index7', 'Thumb9', 'Wrist11')\n",
    "\n",
    "exp.p06.t1.exclude_trial()\n",
    "exp.p06.t45.exclude_trial()"
   ]
  },
  {
   "cell_type": "markdown",
   "metadata": {},
   "source": [
    "# P07\n",
    "\n",
    "accuracy z a bit hight on the first, good second  \n",
    "- trial 24: bad markers data\n",
    "- trial 25: data drop during reach\n",
    "- trial 30: data drop in the beginning\n",
    "- trial 86, 90-101: bad wrist data, but do not exclude"
   ]
  },
  {
   "cell_type": "code",
   "execution_count": 10,
   "metadata": {},
   "outputs": [],
   "source": [
    "exp.p07.set_markers('Index8', 'Thumb9', 'Wrist11')\n",
    "\n",
    "exp.p07.t24.exclude_trial()\n",
    "exp.p07.t25.exclude_trial()\n",
    "exp.p07.t30.exclude_trial()"
   ]
  },
  {
   "cell_type": "markdown",
   "metadata": {},
   "source": [
    "# P08\n",
    "\n",
    "bad z and x accuracy  \n",
    ">EXCLUDE"
   ]
  },
  {
   "cell_type": "code",
   "execution_count": 11,
   "metadata": {},
   "outputs": [],
   "source": [
    "exp.p08.exclude_participant()"
   ]
  },
  {
   "cell_type": "markdown",
   "metadata": {},
   "source": [
    "# P09\n",
    "\n",
    "only fisrt block is present: crushed  \n",
    ">EXCLUDE"
   ]
  },
  {
   "cell_type": "code",
   "execution_count": 12,
   "metadata": {},
   "outputs": [],
   "source": [
    "exp.p09.exclude_participant()"
   ]
  },
  {
   "cell_type": "markdown",
   "metadata": {},
   "source": [
    "# P10\n",
    "\n",
    "crushed after a few trials; did not run\n",
    ">EXCLUDE"
   ]
  },
  {
   "cell_type": "code",
   "execution_count": 13,
   "metadata": {},
   "outputs": [],
   "source": [
    "exp.p10.exclude_participant()"
   ]
  },
  {
   "cell_type": "markdown",
   "metadata": {},
   "source": [
    "# P11\n",
    "\n",
    "z-accuracy a bit high on both, esp. second  \n",
    "- trial 1: early reach\n",
    "- trial 3: early reach\n",
    "- trial 64: data drop at 1/3 of trial\n",
    "- trial 92: early reach"
   ]
  },
  {
   "cell_type": "code",
   "execution_count": 14,
   "metadata": {},
   "outputs": [],
   "source": [
    "exp.p11.set_markers('Index8', 'Thumb9', 'Wrist11')\n",
    "\n",
    "exp.p11.t1.exclude_trial()\n",
    "exp.p11.t3.exclude_trial()\n",
    "exp.p11.t64.exclude_trial()\n",
    "exp.p11.t92.exclude_trial()"
   ]
  },
  {
   "cell_type": "markdown",
   "metadata": {},
   "source": [
    "# P12\n",
    "\n",
    "z accuracy high\n",
    "- trial 1: early reach\n",
    "- trial 3: early reach\n",
    "- trial 10: lag\n",
    "- trial 66: target did not stop\n",
    "- trial 81: target did not stop"
   ]
  },
  {
   "cell_type": "code",
   "execution_count": 15,
   "metadata": {},
   "outputs": [],
   "source": [
    "exp.p12.set_markers('Index8', 'Thumb9', 'Wrist11')\n",
    "\n",
    "exp.p12.t1.exclude_trial()\n",
    "exp.p12.t3.exclude_trial()\n",
    "exp.p12.t10.exclude_trial()\n",
    "exp.p12.t66.exclude_trial()\n",
    "exp.p12.t81.exclude_trial()"
   ]
  },
  {
   "cell_type": "markdown",
   "metadata": {},
   "source": [
    "# P13\n",
    "\n",
    "accuracy not good: high z first, high x & z second  \n",
    "EXCLUDE: impatient participant; did not finish experiment"
   ]
  },
  {
   "cell_type": "code",
   "execution_count": 16,
   "metadata": {},
   "outputs": [],
   "source": [
    "exp.p13.exclude_participant()"
   ]
  },
  {
   "cell_type": "markdown",
   "metadata": {},
   "source": [
    "# P14\n",
    "\n",
    "good first accuracy; readjusted the helmet before the second ~ 2 cm z  \n",
    "- trial 2: early reach\n",
    "- trial 3: early reach\n",
    "- trial 28: early reach\n",
    "- trial 33: early reach\n",
    "- trial 90: early reach"
   ]
  },
  {
   "cell_type": "code",
   "execution_count": 17,
   "metadata": {},
   "outputs": [],
   "source": [
    "exp.p14.set_markers('Index8', 'Thumb9', 'Wrist12')\n",
    "\n",
    "exp.p14.t2.exclude_trial()\n",
    "exp.p14.t3.exclude_trial()\n",
    "exp.p14.t28.exclude_trial()\n",
    "exp.p14.t33.exclude_trial()\n",
    "exp.p14.t90.exclude_trial()"
   ]
  },
  {
   "cell_type": "markdown",
   "metadata": {},
   "source": [
    "# P15\n",
    "\n",
    "bad x and z accuracy on the fist, good on the second  \n",
    "- trial 18: block did not stop\n",
    "- trial 77: lag\n",
    "- trial 78: lag and data drop\n",
    "- trial 81: lag"
   ]
  },
  {
   "cell_type": "code",
   "execution_count": 18,
   "metadata": {},
   "outputs": [],
   "source": [
    "exp.P15.set_markers('Index8', 'Thumb9', 'Wrist11')\n",
    "\n",
    "exp.P15.t18.exclude_trial()\n",
    "exp.P15.t77.exclude_trial()\n",
    "exp.P15.t78.exclude_trial()\n",
    "exp.P15.t81.exclude_trial()"
   ]
  },
  {
   "cell_type": "markdown",
   "metadata": {},
   "source": [
    "# P16\n",
    "\n",
    "bad z accuracy on the first, better on the second\n",
    "- trial 1: earcly reach\n",
    "- trial 31: early reach\n",
    "- trial 55: lag\n",
    "- trial 61: bad eye data"
   ]
  },
  {
   "cell_type": "code",
   "execution_count": 19,
   "metadata": {},
   "outputs": [],
   "source": [
    "exp.P16.set_markers('Index8', 'Thumb9', 'Wrist11')\n",
    "\n",
    "exp.P16.t1.exclude_trial()\n",
    "exp.P16.t31.exclude_trial()\n",
    "exp.P16.t55.exclude_trial()\n",
    "exp.P16.t61.exclude_trial()"
   ]
  },
  {
   "cell_type": "markdown",
   "metadata": {},
   "source": [
    "# P17 <--\n",
    "\n",
    "great accuracy!!  \n",
    "- trial 1: lag + data drop\n",
    "- trial 39: early reach"
   ]
  },
  {
   "cell_type": "code",
   "execution_count": 20,
   "metadata": {},
   "outputs": [],
   "source": [
    "exp.P17.set_markers('Index8', 'Thumb9', 'Wrist11')\n",
    "\n",
    "exp.P17.t1.exclude_trial()\n",
    "exp.P17.t39.exclude_trial()"
   ]
  },
  {
   "cell_type": "markdown",
   "metadata": {},
   "source": [
    "# P18\n",
    "\n",
    "z accuracy a bit high: makeup\n",
    "- trial 1: early reach\n",
    "- trial 13: target did not stop\n",
    "- trial 98: early reach\n",
    "- trial 103: did not stop  \n",
    "\n",
    "strange marker lines"
   ]
  },
  {
   "cell_type": "code",
   "execution_count": 21,
   "metadata": {},
   "outputs": [],
   "source": [
    "exp.p18.set_markers('Index7', 'Thumb10', 'Wrist11')\n",
    "\n",
    "exp.P18.t1.exclude_trial()\n",
    "exp.P18.t13.exclude_trial()\n",
    "exp.P18.t98.exclude_trial()\n",
    "exp.P18.t103.exclude_trial()"
   ]
  },
  {
   "cell_type": "markdown",
   "metadata": {},
   "source": [
    "# P19\n",
    "\n",
    "only the fist block + 15 trials from the second  \n",
    ">EXCLUDE"
   ]
  },
  {
   "cell_type": "code",
   "execution_count": 22,
   "metadata": {},
   "outputs": [],
   "source": [
    "exp.p19.exclude_participant()"
   ]
  },
  {
   "cell_type": "markdown",
   "metadata": {},
   "source": [
    "# P20\n",
    "\n",
    "too high accuracy error  \n",
    ">EXCLUDE"
   ]
  },
  {
   "cell_type": "code",
   "execution_count": 23,
   "metadata": {},
   "outputs": [],
   "source": [
    "exp.p20.exclude_participant()"
   ]
  },
  {
   "cell_type": "markdown",
   "metadata": {},
   "source": [
    "# P21\n",
    "\n",
    "??? ghost participant"
   ]
  },
  {
   "cell_type": "markdown",
   "metadata": {},
   "source": [
    "# P22\n",
    "\n",
    "very high x and z accuracy on the second  \n",
    ">EXCLUDE"
   ]
  },
  {
   "cell_type": "code",
   "execution_count": 24,
   "metadata": {},
   "outputs": [],
   "source": [
    "exp.p22.exclude_participant()"
   ]
  },
  {
   "cell_type": "markdown",
   "metadata": {},
   "source": [
    "# P23\n",
    "\n",
    "too hight accuracy error: makeup  \n",
    "EXCLUDE"
   ]
  },
  {
   "cell_type": "code",
   "execution_count": 25,
   "metadata": {},
   "outputs": [],
   "source": [
    "exp.p23.exclude_participant()"
   ]
  },
  {
   "cell_type": "markdown",
   "metadata": {},
   "source": [
    "# P24\n",
    "\n",
    "z-accuracy quite high on the second; good x\n",
    "- trial 19: data drop at 1/2 of the trial"
   ]
  },
  {
   "cell_type": "code",
   "execution_count": 26,
   "metadata": {},
   "outputs": [],
   "source": [
    "exp.p24.set_markers('Index8', 'Thumb9', 'Wrist11')\n",
    "\n",
    "exp.p24.t19.exclude_trial()"
   ]
  },
  {
   "cell_type": "markdown",
   "metadata": {},
   "source": [
    "# P25\n",
    "\n",
    "very high z and x accuracy, esp. on the second  \n",
    ">EXCLUDE"
   ]
  },
  {
   "cell_type": "code",
   "execution_count": 27,
   "metadata": {},
   "outputs": [],
   "source": [
    "exp.p25.exclude_participant()"
   ]
  },
  {
   "cell_type": "markdown",
   "metadata": {},
   "source": [
    "# P26\n",
    "\n",
    "high z-accuracy, good x  \n",
    "noisy index data\n"
   ]
  },
  {
   "cell_type": "code",
   "execution_count": 28,
   "metadata": {},
   "outputs": [],
   "source": [
    "exp.p26.set_markers('Index8', 'Thumb9', 'Wrist12')\n",
    "\n"
   ]
  },
  {
   "cell_type": "markdown",
   "metadata": {},
   "source": [
    "# P27\n",
    "\n",
    "too high z accuracy  \n",
    "cr missing on many trials"
   ]
  },
  {
   "cell_type": "code",
   "execution_count": 29,
   "metadata": {},
   "outputs": [],
   "source": [
    "exp.p27.exclude_participant()"
   ]
  },
  {
   "cell_type": "markdown",
   "metadata": {},
   "source": [
    "# P28\n",
    "\n",
    "good accuracy  \n",
    "- trial 1: no grasp\n",
    "- trial 19: early reach\n",
    "- trial 83: early reach"
   ]
  },
  {
   "cell_type": "code",
   "execution_count": 30,
   "metadata": {},
   "outputs": [],
   "source": [
    "exp.p28.set_markers('Index8', 'Thumb9', 'Wrist11')\n",
    "\n",
    "exp.P28.t1.exclude_trial()\n",
    "exp.P28.t19.exclude_trial()\n",
    "exp.P28.t83.exclude_trial()"
   ]
  },
  {
   "cell_type": "markdown",
   "metadata": {},
   "source": [
    "# P29\n",
    "\n",
    "accuracy ok  \n",
    "- trial 22: early reach\n",
    "- trial 49: early reach\n",
    "- trial 53: missed trial; no grasp\n",
    "- trial 75: no grasp\n",
    "- trial 88: early reach\n",
    "- trial 93: no grasp\n",
    "- trial 97: no grasp\n",
    "- trial 102: early reach"
   ]
  },
  {
   "cell_type": "code",
   "execution_count": 31,
   "metadata": {},
   "outputs": [],
   "source": [
    "exp.p29.set_markers('Index8', 'Thumb9', 'Wrist11')\n",
    "\n",
    "exp.P29.t22.exclude_trial()\n",
    "exp.P29.t49.exclude_trial()\n",
    "exp.P29.t53.exclude_trial()\n",
    "exp.P29.t75.exclude_trial()\n",
    "exp.P29.t88.exclude_trial()\n",
    "exp.P29.t93.exclude_trial()\n",
    "exp.P29.t97.exclude_trial()\n",
    "exp.P29.t102.exclude_trial()"
   ]
  },
  {
   "cell_type": "markdown",
   "metadata": {},
   "source": [
    "# P30 <--\n",
    "\n",
    "great accuracy!  \n",
    "- trial 50: lag"
   ]
  },
  {
   "cell_type": "code",
   "execution_count": 32,
   "metadata": {},
   "outputs": [],
   "source": [
    "exp.p30.set_markers('Index8', 'Thumb9', 'Wrist11')\n",
    "\n",
    "exp.p30.t50.exclude_trial()"
   ]
  },
  {
   "cell_type": "markdown",
   "metadata": {},
   "source": [
    "# P31\n",
    "\n",
    "accuracy ok, good on the second\n",
    "- trial 59: data drop\n",
    "- trial 68: lag\n",
    "- trial 108: lag\n"
   ]
  },
  {
   "cell_type": "code",
   "execution_count": 33,
   "metadata": {},
   "outputs": [],
   "source": [
    "exp.p31.set_markers('Index7', 'Thumb9', 'Wrist11')\n",
    "\n",
    "exp.p31.t59.exclude_trial()\n",
    "exp.p31.t68.exclude_trial()\n",
    "exp.p31.t108.exclude_trial()"
   ]
  },
  {
   "cell_type": "markdown",
   "metadata": {},
   "source": [
    "# P32\n",
    "\n",
    "very bad x accuracy  \n",
    ">EXCLUDE"
   ]
  },
  {
   "cell_type": "code",
   "execution_count": 34,
   "metadata": {},
   "outputs": [],
   "source": [
    "exp.p32.exclude_participant()"
   ]
  },
  {
   "cell_type": "markdown",
   "metadata": {},
   "source": [
    "# P33\n",
    "\n",
    "accuracy too bad  \n",
    ">EXCLUDE"
   ]
  },
  {
   "cell_type": "code",
   "execution_count": 35,
   "metadata": {},
   "outputs": [],
   "source": [
    "exp.p33.exclude_participant()"
   ]
  },
  {
   "cell_type": "markdown",
   "metadata": {},
   "source": [
    "# P34\n",
    "\n",
    "accuracy quite high on the z, good on the x  \n",
    "fixations all over the place - very inconsistent  \n",
    "cr missing on trial 80 on  \n",
    "\n",
    "- trial 2: early reach\n",
    "- trial 7: lag\n",
    "- trial 28: data drop\n",
    "- trial 86: lag\n",
    "- trial 118: data drop\n",
    "\n",
    ">EXCLUDE"
   ]
  },
  {
   "cell_type": "code",
   "execution_count": 36,
   "metadata": {},
   "outputs": [],
   "source": [
    "exp.p34.set_markers('Index8', 'Thumb9', 'Wrist11')\n",
    "\n",
    "exp.p34.t2.exclude_trial()\n",
    "exp.p34.t7.exclude_trial()\n",
    "exp.p34.t28.exclude_trial()\n",
    "exp.p34.t86.exclude_trial()\n",
    "exp.p34.t118.exclude_trial()\n",
    "\n",
    "exp.p34.exclude_participant()"
   ]
  },
  {
   "cell_type": "markdown",
   "metadata": {},
   "source": [
    "# P35\n",
    "\n",
    "high x-accuracy, esp. on the second  \n",
    "only 80 trials  \n",
    "> EXCLUDE"
   ]
  },
  {
   "cell_type": "code",
   "execution_count": 37,
   "metadata": {},
   "outputs": [],
   "source": [
    "exp.p35.exclude_participant()"
   ]
  },
  {
   "cell_type": "markdown",
   "metadata": {},
   "source": [
    "# P36\n",
    "\n",
    "accuracy z too high (> 5 cm)\n",
    ">EXCLUDE"
   ]
  },
  {
   "cell_type": "code",
   "execution_count": 38,
   "metadata": {},
   "outputs": [],
   "source": [
    "exp.p36.exclude_participant()"
   ]
  },
  {
   "cell_type": "markdown",
   "metadata": {},
   "source": [
    "# P37\n",
    "\n",
    "accuracy z too high (although x ok) \n",
    ">EXCLUDE"
   ]
  },
  {
   "cell_type": "code",
   "execution_count": 39,
   "metadata": {},
   "outputs": [],
   "source": [
    "exp.p37.exclude_participant()"
   ]
  },
  {
   "cell_type": "markdown",
   "metadata": {},
   "source": [
    "# P38\n",
    "\n",
    "accuracy z quite high, but x ok  \n",
    "- trial 61: data drop"
   ]
  },
  {
   "cell_type": "code",
   "execution_count": 40,
   "metadata": {},
   "outputs": [],
   "source": [
    "exp.p38.set_markers('Index8', 'Thumb9', 'Wrist11')\n",
    "\n",
    "exp.p38.t61.exclude_trial()"
   ]
  },
  {
   "cell_type": "markdown",
   "metadata": {},
   "source": [
    "# P39\n",
    "\n",
    "accuracy z high, x ok  \n",
    "- trial 77: lag\n",
    "- trial 109: early reach"
   ]
  },
  {
   "cell_type": "code",
   "execution_count": 41,
   "metadata": {},
   "outputs": [],
   "source": [
    "exp.p39.set_markers('Index8', 'Thumb9', 'Wrist11')\n",
    "\n",
    "exp.p39.t77.exclude_trial()\n",
    "exp.p39.t109.exclude_trial()"
   ]
  },
  {
   "cell_type": "markdown",
   "metadata": {},
   "source": [
    "# P40\n",
    "\n",
    "accuracy z quite bad. x ok\n",
    "- trial 7: early reach\n",
    "- trial 52: early reach\n",
    "- trial 53: early reach\n",
    "- trial 92: early reach"
   ]
  },
  {
   "cell_type": "code",
   "execution_count": 42,
   "metadata": {},
   "outputs": [],
   "source": [
    "exp.p40.set_markers('Index8', 'Thumb9', 'Wrist11')\n",
    "\n",
    "exp.p40.t7.exclude_trial()\n",
    "exp.p40.t52.exclude_trial()\n",
    "exp.p40.t53.exclude_trial()\n",
    "exp.p40.t92.exclude_trial()"
   ]
  },
  {
   "cell_type": "markdown",
   "metadata": {},
   "source": [
    "# P41\n",
    "\n",
    "uninterested participant. did not do the last 30 trials  \n",
    "+ bad z accuracy\n",
    ">EXCLUDE"
   ]
  },
  {
   "cell_type": "code",
   "execution_count": 43,
   "metadata": {},
   "outputs": [],
   "source": [
    "exp.p41.exclude_participant()"
   ]
  },
  {
   "cell_type": "markdown",
   "metadata": {},
   "source": [
    "# P42\n",
    "\n",
    "very bad accuracy, including x axis\n",
    ">EXCLUDE"
   ]
  },
  {
   "cell_type": "code",
   "execution_count": 44,
   "metadata": {},
   "outputs": [],
   "source": [
    "exp.p42.exclude_participant()"
   ]
  },
  {
   "cell_type": "markdown",
   "metadata": {},
   "source": [
    "# P43 <--\n",
    "\n",
    "good accuracy!\n",
    "- trial 23: early reach\n",
    "- trial 59: early reach\n",
    "- trial 120: early reach"
   ]
  },
  {
   "cell_type": "code",
   "execution_count": 45,
   "metadata": {},
   "outputs": [],
   "source": [
    "exp.p43.set_markers('Index8', 'Thumb9', 'Wrist11')\n",
    "\n",
    "exp.p43.t23.exclude_trial()\n",
    "exp.p43.t59.exclude_trial()\n",
    "exp.p43.t120.exclude_trial()"
   ]
  },
  {
   "cell_type": "markdown",
   "metadata": {},
   "source": [
    "# P44\n",
    "\n",
    "accuracy ok\n",
    "- trial 39: target did not stop\n",
    "- trial 106: data drop in the beginning\n",
    "- trial 109: missed grasp"
   ]
  },
  {
   "cell_type": "code",
   "execution_count": 46,
   "metadata": {},
   "outputs": [],
   "source": [
    "exp.p44.set_markers('Index8', 'Thumb9', 'Wrist11')\n",
    "\n",
    "exp.p44.t39.exclude_trial()\n",
    "exp.p44.t106.exclude_trial()\n",
    "exp.p44.t109.exclude_trial()"
   ]
  },
  {
   "cell_type": "markdown",
   "metadata": {},
   "source": [
    "# P45 <--\n",
    "\n",
    "great accuracy!\n",
    "- trial 97: early reach, target did not stop \n",
    "- trial 107: data drop\n",
    "- trial 109: early reach"
   ]
  },
  {
   "cell_type": "code",
   "execution_count": 47,
   "metadata": {},
   "outputs": [],
   "source": [
    "exp.p45.set_markers('Index8', 'Thumb9', 'Wrist11')\n",
    "\n",
    "exp.p45.t97.exclude_trial()\n",
    "exp.p45.t107.exclude_trial()\n",
    "exp.p45.t109.exclude_trial()"
   ]
  },
  {
   "cell_type": "code",
   "execution_count": 48,
   "metadata": {},
   "outputs": [],
   "source": [
    "exp.save_data()"
   ]
  },
  {
   "cell_type": "code",
   "execution_count": null,
   "metadata": {},
   "outputs": [],
   "source": []
  }
 ],
 "metadata": {
  "kernelspec": {
   "display_name": "Python 2",
   "language": "python",
   "name": "python2"
  },
  "language_info": {
   "codemirror_mode": {
    "name": "ipython",
    "version": 2
   },
   "file_extension": ".py",
   "mimetype": "text/x-python",
   "name": "python",
   "nbconvert_exporter": "python",
   "pygments_lexer": "ipython2",
   "version": "2.7.14"
  }
 },
 "nbformat": 4,
 "nbformat_minor": 2
}
