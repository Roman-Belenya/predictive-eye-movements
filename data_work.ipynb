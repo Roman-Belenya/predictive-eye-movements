{
 "cells": [
  {
   "cell_type": "code",
   "execution_count": null,
   "metadata": {},
   "outputs": [],
   "source": [
    "import experiment\n",
    "exp = experiment.Experiment()\n",
    "exp.read_participants_data('./data')"
   ]
  },
  {
   "cell_type": "markdown",
   "metadata": {},
   "source": [
    "# P01\n",
    "\n",
    "accuracy ok\n",
    "- trial 2: data drop. exclude"
   ]
  },
  {
   "cell_type": "code",
   "execution_count": null,
   "metadata": {},
   "outputs": [],
   "source": [
    "exp.P01.set_markers('Index8', 'Thumb10', 'Wrist11')"
   ]
  },
  {
   "cell_type": "code",
   "execution_count": null,
   "metadata": {},
   "outputs": [],
   "source": [
    "exp.P01.t2.exclude_trial()\n",
    "plt.plot(exp.P01.t2.eye_x)\n",
    "plt.plot(exp.P01.t2.eye_y)\n",
    "plt.plot(exp.P01.t2.eye_z)"
   ]
  },
  {
   "cell_type": "markdown",
   "metadata": {},
   "source": [
    "# P02\n",
    "\n",
    "accuracy ok  \n",
    "- trial 26: early reach, exclude"
   ]
  },
  {
   "cell_type": "code",
   "execution_count": null,
   "metadata": {},
   "outputs": [],
   "source": [
    "exp.P02.set_markers('Index8', 'Thumb10', 'Wrist11')"
   ]
  },
  {
   "cell_type": "code",
   "execution_count": null,
   "metadata": {},
   "outputs": [],
   "source": [
    "exp.P02.t25.exclude_trial()\n",
    "plt.plot(exp.P02.t25.Index7y)"
   ]
  },
  {
   "cell_type": "markdown",
   "metadata": {},
   "source": [
    "# P03\n",
    "\n",
    "bad accuracy on the x-axis; no accuracy for the first block  \n",
    "EXCLUDE"
   ]
  },
  {
   "cell_type": "code",
   "execution_count": null,
   "metadata": {},
   "outputs": [],
   "source": [
    "exp.P03.exclude_participant()"
   ]
  },
  {
   "cell_type": "markdown",
   "metadata": {},
   "source": [
    "# P04\n",
    "\n",
    "high z-axis accuracy  \n",
    "bad markers data  \n",
    "only 23 trials in the second block  \n",
    "EXCLUDE"
   ]
  },
  {
   "cell_type": "code",
   "execution_count": null,
   "metadata": {},
   "outputs": [],
   "source": [
    "exp.P04.check_accuracy('a1')\n",
    "exp.P04.set_markers('Index8', 'Thumb10', 'Wrist11')\n",
    "\n",
    "exp.P04.exclude_participant()"
   ]
  },
  {
   "cell_type": "markdown",
   "metadata": {},
   "source": [
    "# P05\n",
    "\n",
    "great accuracy  \n",
    "MM crush: trial 102. Continued experiment; trials 114-120 missing  \n",
    "total 111 trials; full first block  \n",
    "- trial 70: early reach. exclude"
   ]
  },
  {
   "cell_type": "code",
   "execution_count": 5,
   "metadata": {},
   "outputs": [
    {
     "ename": "NameError",
     "evalue": "name 'exp' is not defined",
     "output_type": "error",
     "traceback": [
      "\u001b[1;31m---------------------------------------------------------------------------\u001b[0m",
      "\u001b[1;31mNameError\u001b[0m                                 Traceback (most recent call last)",
      "\u001b[1;32m<ipython-input-5-3d2f0f154b15>\u001b[0m in \u001b[0;36m<module>\u001b[1;34m()\u001b[0m\n\u001b[1;32m----> 1\u001b[1;33m \u001b[0mexp\u001b[0m\u001b[1;33m.\u001b[0m\u001b[0mP05\u001b[0m\u001b[1;33m.\u001b[0m\u001b[0mt70\u001b[0m\u001b[1;33m.\u001b[0m\u001b[0mexclude_trial\u001b[0m\u001b[1;33m(\u001b[0m\u001b[1;33m)\u001b[0m\u001b[1;33m\u001b[0m\u001b[0m\n\u001b[0m\u001b[0;32m      2\u001b[0m \u001b[0mplt\u001b[0m\u001b[1;33m.\u001b[0m\u001b[0mplot\u001b[0m\u001b[1;33m(\u001b[0m\u001b[0mexp\u001b[0m\u001b[1;33m.\u001b[0m\u001b[0mP05\u001b[0m\u001b[1;33m.\u001b[0m\u001b[0mt70\u001b[0m\u001b[1;33m.\u001b[0m\u001b[0mIndex7y\u001b[0m\u001b[1;33m)\u001b[0m\u001b[1;33m\u001b[0m\u001b[0m\n",
      "\u001b[1;31mNameError\u001b[0m: name 'exp' is not defined"
     ]
    }
   ],
   "source": [
    "exp.P05.t70.exclude_trial()\n",
    "plt.plot(exp.P05.t70.Index7y)"
   ]
  },
  {
   "cell_type": "markdown",
   "metadata": {},
   "source": [
    "# P13\n",
    "\n",
    "accuracy not good: high z first, high x & z second  \n",
    "EXCLUDE: impatient participant; did not finish experiment"
   ]
  },
  {
   "cell_type": "code",
   "execution_count": 6,
   "metadata": {},
   "outputs": [
    {
     "ename": "NameError",
     "evalue": "name 'exp' is not defined",
     "output_type": "error",
     "traceback": [
      "\u001b[1;31m---------------------------------------------------------------------------\u001b[0m",
      "\u001b[1;31mNameError\u001b[0m                                 Traceback (most recent call last)",
      "\u001b[1;32m<ipython-input-6-15f0bac51782>\u001b[0m in \u001b[0;36m<module>\u001b[1;34m()\u001b[0m\n\u001b[1;32m----> 1\u001b[1;33m \u001b[0mexp\u001b[0m\u001b[1;33m.\u001b[0m\u001b[0mP13\u001b[0m\u001b[1;33m.\u001b[0m\u001b[0mexclude_participant\u001b[0m\u001b[1;33m(\u001b[0m\u001b[1;33m)\u001b[0m\u001b[1;33m\u001b[0m\u001b[0m\n\u001b[0m",
      "\u001b[1;31mNameError\u001b[0m: name 'exp' is not defined"
     ]
    }
   ],
   "source": [
    "exp.P13.exclude_participant()"
   ]
  },
  {
   "cell_type": "markdown",
   "metadata": {},
   "source": [
    "# P14\n",
    "\n",
    "good first accuracy; readjusted the helmet before the second ~ 2 cm z  \n",
    "- trial 2: early reach\n",
    "- trial 3: early reach\n",
    "- trial 28: early reach\n",
    "- trial 33: early reach\n",
    "- trial 90: early reach"
   ]
  },
  {
   "cell_type": "code",
   "execution_count": null,
   "metadata": {},
   "outputs": [],
   "source": [
    "exp.P14.set_markers('Index8', 'Thumb9', 'Wrist12')\n",
    "\n",
    "exp.P14.t2.exclude_trial()\n",
    "exp.P14.t3.exclude_trial()\n",
    "exp.P14.t28.exclude_trial()\n",
    "exp.P14.t33.exclude_trial()\n",
    "exp.P14.t90.exclude_trial()"
   ]
  },
  {
   "cell_type": "markdown",
   "metadata": {},
   "source": [
    "# P15\n",
    "\n",
    "bad x and z accuracy on the fist, good on the second  \n",
    "- trial 18: block did not stop\n",
    "- trial 77: lag\n",
    "- trial 78: lag and data drop\n",
    "- trial 81: lag"
   ]
  },
  {
   "cell_type": "code",
   "execution_count": null,
   "metadata": {},
   "outputs": [],
   "source": [
    "exp.P15.set_markers('Index8', 'Thumb9', 'Wrist11')\n",
    "\n",
    "exp.P15.t18.exclude_trial()\n",
    "exp.P15.t77.exclude_trial()\n",
    "exp.P15.t78.exclude_trial()\n",
    "exp.P15.t81.exclude_trial()"
   ]
  },
  {
   "cell_type": "markdown",
   "metadata": {},
   "source": [
    "# P16\n",
    "\n",
    "bad z accuracy on the first, better on the second\n",
    "- trial 1: earcly reach\n",
    "- trial 31: early reach\n",
    "- trial 55: lag\n",
    "- trial 61: bad eye data"
   ]
  },
  {
   "cell_type": "code",
   "execution_count": null,
   "metadata": {},
   "outputs": [],
   "source": [
    "exp.P16.set_markers('Index8', 'Thumb9', 'Wrist11')\n",
    "\n",
    "exp.P16.t1.exclude_trial()\n",
    "exp.P16.t31.exclude_trial()\n",
    "exp.P16.t55.exclude_trial()\n",
    "exp.P16.t61.exclude_trial()"
   ]
  },
  {
   "cell_type": "markdown",
   "metadata": {},
   "source": [
    "# P17 <--\n",
    "\n",
    "great accuracy!!  \n",
    "- trial 1: lag + data drop\n",
    "- trial 39: early reach"
   ]
  },
  {
   "cell_type": "code",
   "execution_count": null,
   "metadata": {},
   "outputs": [],
   "source": [
    "exp.P17.set_markers('Index8', 'Thumb9', 'Wrist11')\n",
    "\n",
    "exp.P17.t1.exclude_trial()\n",
    "exp.P17.t39.exclude_trial()"
   ]
  }
 ],
 "metadata": {
  "kernelspec": {
   "display_name": "Python 2",
   "language": "python",
   "name": "python2"
  },
  "language_info": {
   "codemirror_mode": {
    "name": "ipython",
    "version": 2
   },
   "file_extension": ".py",
   "mimetype": "text/x-python",
   "name": "python",
   "nbconvert_exporter": "python",
   "pygments_lexer": "ipython2",
   "version": "2.7.14"
  }
 },
 "nbformat": 4,
 "nbformat_minor": 2
}
