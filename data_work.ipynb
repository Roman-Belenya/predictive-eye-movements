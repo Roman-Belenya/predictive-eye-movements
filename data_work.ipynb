{
 "cells": [
  {
   "cell_type": "code",
   "execution_count": null,
   "metadata": {},
   "outputs": [],
   "source": [
    "import experiment\n",
    "exp = experiment.Experiment()\n",
    "exp.read_participants_data('./data')"
   ]
  },
  {
   "cell_type": "markdown",
   "metadata": {},
   "source": [
    "# P01\n",
    "\n",
    "accuracy ok\n",
    "- trial 2: data drop. exclude"
   ]
  },
  {
   "cell_type": "code",
   "execution_count": null,
   "metadata": {},
   "outputs": [],
   "source": [
    "exp.P01.set_markers('Index8', 'Thumb10', 'Wrist11')"
   ]
  },
  {
   "cell_type": "code",
   "execution_count": null,
   "metadata": {},
   "outputs": [],
   "source": [
    "exp.P01.t2.exclude_trial()\n",
    "plt.plot(exp.P01.t2.eye_x)\n",
    "plt.plot(exp.P01.t2.eye_y)\n",
    "plt.plot(exp.P01.t2.eye_z)"
   ]
  },
  {
   "cell_type": "markdown",
   "metadata": {},
   "source": [
    "# P02\n",
    "\n",
    "accuracy ok  \n",
    "- trial 26: early reach, exclude"
   ]
  },
  {
   "cell_type": "code",
   "execution_count": null,
   "metadata": {},
   "outputs": [],
   "source": [
    "exp.P02.set_markers('Index8', 'Thumb10', 'Wrist11')"
   ]
  },
  {
   "cell_type": "code",
   "execution_count": null,
   "metadata": {},
   "outputs": [],
   "source": [
    "exp.P02.t25.exclude_trial()\n",
    "plt.plot(exp.P02.t25.Index7y)"
   ]
  },
  {
   "cell_type": "markdown",
   "metadata": {},
   "source": [
    "# P03\n",
    "\n",
    "bad accuracy on the x-axis; no accuracy for the first block  \n",
    "EXCLUDE"
   ]
  },
  {
   "cell_type": "code",
   "execution_count": null,
   "metadata": {},
   "outputs": [],
   "source": [
    "exp.P03.exclude_participant()"
   ]
  },
  {
   "cell_type": "markdown",
   "metadata": {},
   "source": [
    "# P04\n",
    "\n",
    "high z-axis accuracy  \n",
    "bad markers data  \n",
    "only 23 trials in the second block  \n",
    "EXCLUDE"
   ]
  },
  {
   "cell_type": "code",
   "execution_count": null,
   "metadata": {},
   "outputs": [],
   "source": [
    "exp.P04.check_accuracy('a1')\n",
    "exp.P04.set_markers('Index8', 'Thumb10', 'Wrist11')\n",
    "\n",
    "exp.P04.exclude_participant()"
   ]
  },
  {
   "cell_type": "markdown",
   "metadata": {},
   "source": [
    "# P05\n",
    "\n",
    "great accuracy  \n",
    "MM crush: trial 102. Continued experiment; trials 114-120 missing  \n",
    "total 111 trials; full first block  \n",
    "- trial 70: early reach. exclude"
   ]
  },
  {
   "cell_type": "code",
   "execution_count": null,
   "metadata": {},
   "outputs": [],
   "source": [
    "exp.P05.t70.exclude_trial()\n",
    "plt.plot(exp.P05.t70.Index7y)"
   ]
  },
  {
   "cell_type": "markdown",
   "metadata": {},
   "source": [
    "# P06\n",
    "\n",
    "good accuracy  \n",
    "- trial 1: early reach\n",
    "- trial 45: lag, no grasp"
   ]
  },
  {
   "cell_type": "code",
   "execution_count": null,
   "metadata": {},
   "outputs": [],
   "source": [
    "exp.p06.set_markers('Index7', 'Thumb9', 'Wrist11')\n",
    "\n",
    "exp.p06.t1.exclude_trial()\n",
    "exp.p06.t45.exclude_trial()"
   ]
  },
  {
   "cell_type": "markdown",
   "metadata": {},
   "source": [
    "# P07\n",
    "\n",
    "accuracy z a bit hight on the first, good second  \n",
    "- trial 24: bad markers data\n",
    "- trial 25: data drop during reach\n",
    "- trial 30: data drop in the beginning\n",
    "- trial 86, 90-101: bad wrist data, but do not exclude"
   ]
  },
  {
   "cell_type": "code",
   "execution_count": null,
   "metadata": {},
   "outputs": [],
   "source": [
    "exp.p07.set_markers('Index8', 'Thumb9', 'Wrist11')\n",
    "\n",
    "exp.p07.t24.exclude_trial()\n",
    "exp.p07.t25.exclude_trial()\n",
    "exp.p07.t30.exclude_trial()"
   ]
  },
  {
   "cell_type": "markdown",
   "metadata": {},
   "source": [
    "# P08\n",
    "\n",
    "bad z and x accuracy  \n",
    "EXCLUDE"
   ]
  },
  {
   "cell_type": "code",
   "execution_count": null,
   "metadata": {},
   "outputs": [],
   "source": [
    "exp.p08.exclude_participant()"
   ]
  },
  {
   "cell_type": "markdown",
   "metadata": {},
   "source": [
    "# P09\n",
    "\n",
    "only fisrt block is present: crushed  \n",
    "EXCLUDE"
   ]
  },
  {
   "cell_type": "code",
   "execution_count": null,
   "metadata": {},
   "outputs": [],
   "source": [
    "exp.p09.exclude_participant()"
   ]
  },
  {
   "cell_type": "markdown",
   "metadata": {},
   "source": [
    "# P11\n",
    "\n",
    "z-accuracy a bit high on both, esp. second  \n",
    "- trial 1: early reach\n",
    "- trial 3: early reach\n",
    "- trial 64: data drop at 1/3 of trial\n",
    "- trial 92: early reach"
   ]
  },
  {
   "cell_type": "code",
   "execution_count": null,
   "metadata": {},
   "outputs": [],
   "source": [
    "exp.p11.set_markers('Index8', 'Thumb9', 'Wrist11')\n",
    "\n",
    "exp.p11.t1.exclude_trial()\n",
    "exp.p11.t3.exclude_trial()\n",
    "exp.p11.t64.exclude_trial()\n",
    "exp.p11.t92.exclude_trial()"
   ]
  },
  {
   "cell_type": "markdown",
   "metadata": {},
   "source": [
    "# P12\n",
    "\n",
    "z accuracy high\n",
    "- trial 1: early reach\n",
    "- trial 3: early reach\n",
    "- trial 10: lag\n",
    "- trial 66: target did not stop\n",
    "- trial 81: target did not stop"
   ]
  },
  {
   "cell_type": "code",
   "execution_count": null,
   "metadata": {},
   "outputs": [],
   "source": [
    "exp.p12.set_markers('Index8', 'Thumb9', 'Wrist11')\n",
    "\n",
    "exp.p12.t1.exclude_trial()\n",
    "exp.p12.t3.exclude_trial()\n",
    "exp.p12.t10.exclude_trial()\n",
    "exp.p12.t66.exclude_trial()\n",
    "exp.p12.t81.exclude_trial()"
   ]
  },
  {
   "cell_type": "markdown",
   "metadata": {},
   "source": [
    "# P13\n",
    "\n",
    "accuracy not good: high z first, high x & z second  \n",
    "EXCLUDE: impatient participant; did not finish experiment"
   ]
  },
  {
   "cell_type": "code",
   "execution_count": null,
   "metadata": {},
   "outputs": [],
   "source": [
    "exp.P13.exclude_participant()"
   ]
  },
  {
   "cell_type": "markdown",
   "metadata": {},
   "source": [
    "# P14\n",
    "\n",
    "good first accuracy; readjusted the helmet before the second ~ 2 cm z  \n",
    "- trial 2: early reach\n",
    "- trial 3: early reach\n",
    "- trial 28: early reach\n",
    "- trial 33: early reach\n",
    "- trial 90: early reach"
   ]
  },
  {
   "cell_type": "code",
   "execution_count": null,
   "metadata": {},
   "outputs": [],
   "source": [
    "exp.P14.set_markers('Index8', 'Thumb9', 'Wrist12')\n",
    "\n",
    "exp.P14.t2.exclude_trial()\n",
    "exp.P14.t3.exclude_trial()\n",
    "exp.P14.t28.exclude_trial()\n",
    "exp.P14.t33.exclude_trial()\n",
    "exp.P14.t90.exclude_trial()"
   ]
  },
  {
   "cell_type": "markdown",
   "metadata": {},
   "source": [
    "# P15\n",
    "\n",
    "bad x and z accuracy on the fist, good on the second  \n",
    "- trial 18: block did not stop\n",
    "- trial 77: lag\n",
    "- trial 78: lag and data drop\n",
    "- trial 81: lag"
   ]
  },
  {
   "cell_type": "code",
   "execution_count": null,
   "metadata": {},
   "outputs": [],
   "source": [
    "exp.P15.set_markers('Index8', 'Thumb9', 'Wrist11')\n",
    "\n",
    "exp.P15.t18.exclude_trial()\n",
    "exp.P15.t77.exclude_trial()\n",
    "exp.P15.t78.exclude_trial()\n",
    "exp.P15.t81.exclude_trial()"
   ]
  },
  {
   "cell_type": "markdown",
   "metadata": {},
   "source": [
    "# P16\n",
    "\n",
    "bad z accuracy on the first, better on the second\n",
    "- trial 1: earcly reach\n",
    "- trial 31: early reach\n",
    "- trial 55: lag\n",
    "- trial 61: bad eye data"
   ]
  },
  {
   "cell_type": "code",
   "execution_count": null,
   "metadata": {},
   "outputs": [],
   "source": [
    "exp.P16.set_markers('Index8', 'Thumb9', 'Wrist11')\n",
    "\n",
    "exp.P16.t1.exclude_trial()\n",
    "exp.P16.t31.exclude_trial()\n",
    "exp.P16.t55.exclude_trial()\n",
    "exp.P16.t61.exclude_trial()"
   ]
  },
  {
   "cell_type": "markdown",
   "metadata": {},
   "source": [
    "# P17 <--\n",
    "\n",
    "great accuracy!!  \n",
    "- trial 1: lag + data drop\n",
    "- trial 39: early reach"
   ]
  },
  {
   "cell_type": "code",
   "execution_count": null,
   "metadata": {},
   "outputs": [],
   "source": [
    "exp.P17.set_markers('Index8', 'Thumb9', 'Wrist11')\n",
    "\n",
    "exp.P17.t1.exclude_trial()\n",
    "exp.P17.t39.exclude_trial()"
   ]
  },
  {
   "cell_type": "markdown",
   "metadata": {},
   "source": [
    "# P18\n",
    "\n",
    "z accuracy a bit high: makeup\n",
    "- trial 1: early reach\n",
    "- trial 13: target did not stop\n",
    "- trial 98: early reach\n",
    "- trial 103: did not stop  \n",
    "\n",
    "strange marker lines"
   ]
  },
  {
   "cell_type": "code",
   "execution_count": null,
   "metadata": {},
   "outputs": [],
   "source": [
    "exp.p18.set_markers('Index7', 'Thumb10', 'Wrist11')\n",
    "\n",
    "exp.P18.t1.exclude_trial()\n",
    "exp.P18.t13.exclude_trial()\n",
    "exp.P18.t98.exclude_trial()\n",
    "exp.P18.t103.exclude_trial()"
   ]
  },
  {
   "cell_type": "markdown",
   "metadata": {},
   "source": [
    "# P19\n",
    "\n",
    "only the fist block + 15 trials from the second  \n",
    "EXCCLUDE"
   ]
  },
  {
   "cell_type": "code",
   "execution_count": null,
   "metadata": {},
   "outputs": [],
   "source": [
    "exp.p19.exclude_participant()"
   ]
  },
  {
   "cell_type": "markdown",
   "metadata": {},
   "source": [
    "# P20\n",
    "\n",
    "too high accuracy error  \n",
    "EXCLUDE"
   ]
  },
  {
   "cell_type": "code",
   "execution_count": null,
   "metadata": {},
   "outputs": [],
   "source": [
    "exp.p20.exclude_participant()"
   ]
  },
  {
   "cell_type": "markdown",
   "metadata": {},
   "source": [
    "# P21\n",
    "\n",
    "???"
   ]
  },
  {
   "cell_type": "markdown",
   "metadata": {},
   "source": [
    "# P22\n",
    "\n",
    "very high x and z accuracy on the second  \n",
    "EXCLUDE"
   ]
  },
  {
   "cell_type": "code",
   "execution_count": null,
   "metadata": {},
   "outputs": [],
   "source": [
    "exp.p22.exclude_participant()"
   ]
  },
  {
   "cell_type": "markdown",
   "metadata": {},
   "source": [
    "# P23\n",
    "\n",
    "too hight accuracy error: makeup  \n",
    "EXCLUDE"
   ]
  },
  {
   "cell_type": "code",
   "execution_count": null,
   "metadata": {},
   "outputs": [],
   "source": [
    "exp.p23.exclude_participant()"
   ]
  },
  {
   "cell_type": "markdown",
   "metadata": {},
   "source": [
    "# P24\n",
    "\n",
    "z-accuracy quite high on the second; good x\n",
    "- trial 19: data drop at 1/2 of the trial"
   ]
  },
  {
   "cell_type": "code",
   "execution_count": null,
   "metadata": {},
   "outputs": [],
   "source": [
    "exp.p24.set_markers('Index8', 'Thumb9', 'Wrist11')\n",
    "\n",
    "exp.p24.t19.exclude_trial()"
   ]
  },
  {
   "cell_type": "markdown",
   "metadata": {},
   "source": [
    "# P25\n",
    "\n",
    "very high z and x accuracy, esp. on the second  \n",
    "EXCLUDE"
   ]
  },
  {
   "cell_type": "code",
   "execution_count": null,
   "metadata": {},
   "outputs": [],
   "source": [
    "exp.p25.exclude_participant()"
   ]
  },
  {
   "cell_type": "markdown",
   "metadata": {},
   "source": [
    "# P26\n",
    "\n",
    "high z-accuracy, good x  \n",
    "noisy index data\n"
   ]
  },
  {
   "cell_type": "code",
   "execution_count": null,
   "metadata": {},
   "outputs": [],
   "source": [
    "exp.p26.set_marker('Index8', 'Thumb9', 'Wrist12')\n",
    "\n"
   ]
  },
  {
   "cell_type": "markdown",
   "metadata": {},
   "source": [
    "# P27\n",
    "\n",
    "too high z accuracy  \n",
    "cr missing on many trials"
   ]
  },
  {
   "cell_type": "code",
   "execution_count": null,
   "metadata": {},
   "outputs": [],
   "source": [
    "exp.p27.exclude_participant()"
   ]
  },
  {
   "cell_type": "markdown",
   "metadata": {},
   "source": [
    "# P28\n",
    "\n",
    "good accuracy  \n",
    "- trial 1: no grasp\n",
    "- trial 19: early reach\n",
    "- trial 83: early reach"
   ]
  },
  {
   "cell_type": "code",
   "execution_count": null,
   "metadata": {},
   "outputs": [],
   "source": [
    "exp.p28.set_markers('Index8', 'Thumb9', 'Wrist11')\n",
    "\n",
    "exp.P28.t1.exclude_trial()\n",
    "exp.P28.t19.exclude_trial()\n",
    "exp.P28.t83.exclude_trial()"
   ]
  },
  {
   "cell_type": "markdown",
   "metadata": {},
   "source": [
    "# P29\n",
    "\n",
    "accuracy ok  \n",
    "- trial 22: early reach\n",
    "- trial 49: early reach\n",
    "- trial 53: missed trial; no grasp\n",
    "- trial 75: no grasp\n",
    "- trial 88: early reach\n",
    "- trial 93: no grasp\n",
    "- trial 97: no grasp\n",
    "- trial 102: early reach"
   ]
  },
  {
   "cell_type": "code",
   "execution_count": null,
   "metadata": {},
   "outputs": [],
   "source": [
    "exp.p29.set_markers('Index8', 'Thumb9', 'Wrist11')\n",
    "\n",
    "exp.P29.t22.exclude_trial()\n",
    "exp.P29.t49.exclude_trial()\n",
    "exp.P29.t53.exclude_trial()\n",
    "exp.P29.t75.exclude_trial()\n",
    "exp.P29.t88.exclude_trial()\n",
    "exp.P29.t93.exclude_trial()\n",
    "exp.P29.t97.exclude_trial()\n",
    "exp.P29.t102.exclude_trial()"
   ]
  },
  {
   "cell_type": "markdown",
   "metadata": {},
   "source": [
    "# P30 <--\n",
    "\n",
    "great accuracy!  \n",
    "- trial 50: lag"
   ]
  },
  {
   "cell_type": "code",
   "execution_count": null,
   "metadata": {},
   "outputs": [],
   "source": [
    "exp.p30.set_markers('Index8', 'Thumb9', 'Wrist11')\n",
    "\n",
    "exp.p30.t50.exclude_trial()"
   ]
  }
 ],
 "metadata": {
  "kernelspec": {
   "display_name": "Python 2",
   "language": "python",
   "name": "python2"
  },
  "language_info": {
   "codemirror_mode": {
    "name": "ipython",
    "version": 2
   },
   "file_extension": ".py",
   "mimetype": "text/x-python",
   "name": "python",
   "nbconvert_exporter": "python",
   "pygments_lexer": "ipython2",
   "version": "2.7.14"
  }
 },
 "nbformat": 4,
 "nbformat_minor": 2
}
