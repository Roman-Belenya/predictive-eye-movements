{
 "cells": [
  {
   "cell_type": "code",
   "execution_count": 1,
   "metadata": {},
   "outputs": [
    {
     "name": "stdout",
     "output_type": "stream",
     "text": [
      "---> from .\\saved_17-Apr-2018_17-10-01.pkl:\n",
      "\tp01\n",
      "\tp02\n",
      "\tp03\n",
      "\tp04\n",
      "\tp05\n",
      "\tp06\n",
      "\tp07\n",
      "\tp08\n",
      "\tp09\n",
      "\tp10\n",
      "\tp11\n",
      "\tp12\n",
      "\tp13\n",
      "\tp14\n",
      "\tp15\n",
      "\tp16\n",
      "\tp17\n",
      "\tp18\n",
      "\tp19\n",
      "\tp20\n",
      "\tp21\n",
      "\tp22\n",
      "\tp23\n",
      "\tp24\n",
      "\tp25\n",
      "\tp26\n",
      "\tp27\n",
      "\tp28\n",
      "\tp29\n",
      "\tp30\n",
      "\tp31\n",
      "\tp32\n",
      "\tp33\n",
      "\tp34\n",
      "\tp35\n",
      "\tp36\n",
      "\tp37\n",
      "\tp38\n",
      "\tp39\n",
      "\tp40\n",
      "\tp41\n",
      "\tp42\n",
      "\tp43\n",
      "\tp44\n",
      "\tp45\n"
     ]
    }
   ],
   "source": [
    "try:\n",
    "    reload(experiment)\n",
    "except:\n",
    "    import experiment\n",
    "import numpy as np\n",
    "import matplotlib.pyplot as plt\n",
    "import pandas as pd\n",
    "\n",
    "exp = experiment.Experiment().load_data()"
   ]
  },
  {
   "cell_type": "markdown",
   "metadata": {},
   "source": [
    "# 1. Fixations - target distance analysis"
   ]
  },
  {
   "cell_type": "markdown",
   "metadata": {},
   "source": [
    "### Fixations histogram"
   ]
  },
  {
   "cell_type": "code",
   "execution_count": 2,
   "metadata": {},
   "outputs": [
    {
     "name": "stdout",
     "output_type": "stream",
     "text": [
      "Working with 2877 fixations\n"
     ]
    }
   ],
   "source": [
    "fixations_number = []\n",
    "\n",
    "for participant in exp:\n",
    "    if participant.exclude:\n",
    "        continue\n",
    "    for trial in participant:\n",
    "        if trial.exclude:\n",
    "            continue\n",
    "        fixations_number.append(len(trial.fixations))\n",
    "        \n",
    "print 'Working with {} fixations'.format(len(fixations_number))"
   ]
  },
  {
   "cell_type": "code",
   "execution_count": 3,
   "metadata": {},
   "outputs": [
    {
     "data": {
      "image/png": "[encoded data removed]",
      "text/plain": [
       "<Figure size 432x288 with 1 Axes>"
      ]
     },
     "metadata": {},
     "output_type": "display_data"
    }
   ],
   "source": [
    "h = plt.hist(fixations_number, bins = 20)\n",
    "t = plt.title('Number of fixations in trials')"
   ]
  },
  {
   "cell_type": "markdown",
   "metadata": {},
   "source": [
    "### First fixations' distribution"
   ]
  },
  {
   "cell_type": "code",
   "execution_count": 63,
   "metadata": {},
   "outputs": [],
   "source": [
    "left = [[], [], [], []]\n",
    "right = [[], [], [], []]\n",
    "\n",
    "for participant in exp:\n",
    "    if participant.exclude: continue\n",
    "    for i, part in participant.iter_parts():\n",
    "        for trial in part:\n",
    "            if trial.exclude:continue\n",
    "            \n",
    "            fs = trial.find_fixations(timerange = [100, 300])\n",
    "            if fs:\n",
    "                \n",
    "                cols = np.array(zip(*fs))\n",
    "                weighted = np.sum(cols[3] * cols[2]) / np.sum(cols[2])\n",
    "                \n",
    "                if participant.condition == 'Left':\n",
    "#                     left[i].extend(zip(*fs)[3])\n",
    "#                     left[i].append(fs[-1][3])\n",
    "                    left[i].append(weighted)\n",
    "                elif participant.condition == 'Right':\n",
    "#                     right[i].extend(zip(*fs)[3])\n",
    "#                     right[i].append(fs[-1][3])\n",
    "                    right[i].append(weighted)\n",
    "\n",
    "data = [left, right]"
   ]
  },
  {
   "cell_type": "code",
   "execution_count": 64,
   "metadata": {},
   "outputs": [],
   "source": [
    "fig, axs = plt.subplots(nrows = 2, ncols = 4, sharex = True, sharey = True)\n",
    "\n",
    "for i, row in enumerate(axs):\n",
    "    for k, col in enumerate(row):\n",
    "        col.hist(data[i][k], bins = 50)\n",
    "        col.set_xlim([0.5, 0.7])\n",
    "        col.set_title('part {}, n = {}'.format(k, len(data[i][k])))\n",
    "        avg = np.mean(data[i][k])\n",
    "        med = np.median(data[i][k])\n",
    "        std = np.std([left, right][i][k])\n",
    "#         col.axvline(avg, color = 'r', linewidth = 1)\n",
    "#         col.axvline(0.607, linestyle = ':', color = 'k', linewidth = 1)\n",
    "        col.axvspan(0.607-0.02, 0.607+0.02, color = 'k', alpha = 0.1)\n",
    "        col.axvline(avg, color = 'r', linewidth = 1)\n",
    "        col.axvline(avg+2*std, color = 'r', linestyle = ':', linewidth = 1)\n",
    "        col.axvline(avg-2*std, color = 'r', linestyle = ':', linewidth = 1)"
   ]
  },
  {
   "cell_type": "code",
   "execution_count": null,
   "metadata": {},
   "outputs": [],
   "source": []
  },
  {
   "cell_type": "code",
   "execution_count": null,
   "metadata": {},
   "outputs": [],
   "source": [
    "colnames = ['participant', 'condition', 'part', 'f-t distance']\n",
    "fix100 = pd.DataFrame(columns = colnames)\n",
    "fix300 = pd.DataFrame(columns = colnames)\n",
    "\n",
    "for name, participant in exp:\n",
    "    if participant.exclude:\n",
    "        continue\n",
    "    for part_n, part in participant.iter_parts():\n",
    "        for trial in part:\n",
    "            \n",
    "            if trial.exclude:\n",
    "                continue\n",
    "\n",
    "            f = trial.find_fixations(time = 300)\n",
    "\n",
    "            if not f:\n",
    "                f = np.nan\n",
    "            else:\n",
    "                f = f[3]\n",
    "\n",
    "            line = [participant.name, participant.condition, part_n, f - trial.ObjectX[300]]\n",
    "            to_add = dict(zip(colnames, line))\n",
    "\n",
    "            fix300 = fix300.append(pd.Series(to_add), ignore_index = True)"
   ]
  },
  {
   "cell_type": "code",
   "execution_count": null,
   "metadata": {},
   "outputs": [],
   "source": [
    "fix300.groupby(['participant', 'condition', 'part']).aggregate(np.mean)"
   ]
  },
  {
   "cell_type": "code",
   "execution_count": null,
   "metadata": {},
   "outputs": [],
   "source": [
    "by_condition = fix300.groupby(['condition', 'part']) \\\n",
    "                     .aggregate(np.mean) \\\n",
    "                     .reset_index(level = 'condition')"
   ]
  },
  {
   "cell_type": "code",
   "execution_count": null,
   "metadata": {},
   "outputs": [],
   "source": [
    "by_condition.condition"
   ]
  },
  {
   "cell_type": "code",
   "execution_count": null,
   "metadata": {},
   "outputs": [],
   "source": [
    "l = by_condition[by_condition.condition == 'Left']\n",
    "r = by_condition[by_condition.condition == 'Right']"
   ]
  },
  {
   "cell_type": "code",
   "execution_count": null,
   "metadata": {},
   "outputs": [],
   "source": [
    "l.plot(kind = 'bar')\n",
    "r.plot(kind = 'bar')"
   ]
  },
  {
   "cell_type": "code",
   "execution_count": null,
   "metadata": {},
   "outputs": [],
   "source": []
  }
 ],
 "metadata": {
  "kernelspec": {
   "display_name": "Python 2",
   "language": "python",
   "name": "python2"
  },
  "language_info": {
   "codemirror_mode": {
    "name": "ipython",
    "version": 2
   },
   "file_extension": ".py",
   "mimetype": "text/x-python",
   "name": "python",
   "nbconvert_exporter": "python",
   "pygments_lexer": "ipython2",
   "version": "2.7.14"
  }
 },
 "nbformat": 4,
 "nbformat_minor": 2
}
